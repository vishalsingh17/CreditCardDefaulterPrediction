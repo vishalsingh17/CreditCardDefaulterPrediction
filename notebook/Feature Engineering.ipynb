{
 "cells": [
  {
   "cell_type": "code",
   "execution_count": 7,
   "id": "a3a5f864",
   "metadata": {},
   "outputs": [],
   "source": [
    "# importing libraries\n",
    "\n",
    "import numpy as np\n",
    "import pandas as pd\n",
    "\n",
    "from scipy import stats\n",
    "\n",
    "import seaborn as sns\n",
    "import matplotlib.pyplot as plt"
   ]
  },
  {
   "cell_type": "code",
   "execution_count": 8,
   "id": "fc82bcc3",
   "metadata": {},
   "outputs": [],
   "source": [
    "sns.set()\n",
    "pd.options.display.max_columns = None"
   ]
  },
  {
   "cell_type": "code",
   "execution_count": 9,
   "id": "4f4ae072",
   "metadata": {},
   "outputs": [],
   "source": [
    "# Importing data\n",
    "cc_df = pd.read_excel(\"CreditCard.xls\", header=1)\n",
    "cc_df.rename(columns={\"PAY_0\":\"PAY_1\", \"default payment next month\":\"DEFAULT\"}, inplace=True)\n",
    "cc_df.columns = [name.lower() for name in list(cc_df.columns)]\n",
    "cc_df.drop([\"id\"], axis=1, inplace=True)"
   ]
  },
  {
   "cell_type": "code",
   "execution_count": 10,
   "id": "035dcb55",
   "metadata": {},
   "outputs": [
    {
     "data": {
      "text/html": [
       "<div>\n",
       "<style scoped>\n",
       "    .dataframe tbody tr th:only-of-type {\n",
       "        vertical-align: middle;\n",
       "    }\n",
       "\n",
       "    .dataframe tbody tr th {\n",
       "        vertical-align: top;\n",
       "    }\n",
       "\n",
       "    .dataframe thead th {\n",
       "        text-align: right;\n",
       "    }\n",
       "</style>\n",
       "<table border=\"1\" class=\"dataframe\">\n",
       "  <thead>\n",
       "    <tr style=\"text-align: right;\">\n",
       "      <th></th>\n",
       "      <th>limit_bal</th>\n",
       "      <th>sex</th>\n",
       "      <th>education</th>\n",
       "      <th>marriage</th>\n",
       "      <th>age</th>\n",
       "      <th>pay_1</th>\n",
       "      <th>pay_2</th>\n",
       "      <th>pay_3</th>\n",
       "      <th>pay_4</th>\n",
       "      <th>pay_5</th>\n",
       "      <th>pay_6</th>\n",
       "      <th>bill_amt1</th>\n",
       "      <th>bill_amt2</th>\n",
       "      <th>bill_amt3</th>\n",
       "      <th>bill_amt4</th>\n",
       "      <th>bill_amt5</th>\n",
       "      <th>bill_amt6</th>\n",
       "      <th>pay_amt1</th>\n",
       "      <th>pay_amt2</th>\n",
       "      <th>pay_amt3</th>\n",
       "      <th>pay_amt4</th>\n",
       "      <th>pay_amt5</th>\n",
       "      <th>pay_amt6</th>\n",
       "      <th>default</th>\n",
       "    </tr>\n",
       "  </thead>\n",
       "  <tbody>\n",
       "    <tr>\n",
       "      <th>0</th>\n",
       "      <td>20000</td>\n",
       "      <td>2</td>\n",
       "      <td>2</td>\n",
       "      <td>1</td>\n",
       "      <td>24</td>\n",
       "      <td>2</td>\n",
       "      <td>2</td>\n",
       "      <td>-1</td>\n",
       "      <td>-1</td>\n",
       "      <td>-2</td>\n",
       "      <td>-2</td>\n",
       "      <td>3913</td>\n",
       "      <td>3102</td>\n",
       "      <td>689</td>\n",
       "      <td>0</td>\n",
       "      <td>0</td>\n",
       "      <td>0</td>\n",
       "      <td>0</td>\n",
       "      <td>689</td>\n",
       "      <td>0</td>\n",
       "      <td>0</td>\n",
       "      <td>0</td>\n",
       "      <td>0</td>\n",
       "      <td>1</td>\n",
       "    </tr>\n",
       "    <tr>\n",
       "      <th>1</th>\n",
       "      <td>120000</td>\n",
       "      <td>2</td>\n",
       "      <td>2</td>\n",
       "      <td>2</td>\n",
       "      <td>26</td>\n",
       "      <td>-1</td>\n",
       "      <td>2</td>\n",
       "      <td>0</td>\n",
       "      <td>0</td>\n",
       "      <td>0</td>\n",
       "      <td>2</td>\n",
       "      <td>2682</td>\n",
       "      <td>1725</td>\n",
       "      <td>2682</td>\n",
       "      <td>3272</td>\n",
       "      <td>3455</td>\n",
       "      <td>3261</td>\n",
       "      <td>0</td>\n",
       "      <td>1000</td>\n",
       "      <td>1000</td>\n",
       "      <td>1000</td>\n",
       "      <td>0</td>\n",
       "      <td>2000</td>\n",
       "      <td>1</td>\n",
       "    </tr>\n",
       "    <tr>\n",
       "      <th>2</th>\n",
       "      <td>90000</td>\n",
       "      <td>2</td>\n",
       "      <td>2</td>\n",
       "      <td>2</td>\n",
       "      <td>34</td>\n",
       "      <td>0</td>\n",
       "      <td>0</td>\n",
       "      <td>0</td>\n",
       "      <td>0</td>\n",
       "      <td>0</td>\n",
       "      <td>0</td>\n",
       "      <td>29239</td>\n",
       "      <td>14027</td>\n",
       "      <td>13559</td>\n",
       "      <td>14331</td>\n",
       "      <td>14948</td>\n",
       "      <td>15549</td>\n",
       "      <td>1518</td>\n",
       "      <td>1500</td>\n",
       "      <td>1000</td>\n",
       "      <td>1000</td>\n",
       "      <td>1000</td>\n",
       "      <td>5000</td>\n",
       "      <td>0</td>\n",
       "    </tr>\n",
       "    <tr>\n",
       "      <th>3</th>\n",
       "      <td>50000</td>\n",
       "      <td>2</td>\n",
       "      <td>2</td>\n",
       "      <td>1</td>\n",
       "      <td>37</td>\n",
       "      <td>0</td>\n",
       "      <td>0</td>\n",
       "      <td>0</td>\n",
       "      <td>0</td>\n",
       "      <td>0</td>\n",
       "      <td>0</td>\n",
       "      <td>46990</td>\n",
       "      <td>48233</td>\n",
       "      <td>49291</td>\n",
       "      <td>28314</td>\n",
       "      <td>28959</td>\n",
       "      <td>29547</td>\n",
       "      <td>2000</td>\n",
       "      <td>2019</td>\n",
       "      <td>1200</td>\n",
       "      <td>1100</td>\n",
       "      <td>1069</td>\n",
       "      <td>1000</td>\n",
       "      <td>0</td>\n",
       "    </tr>\n",
       "    <tr>\n",
       "      <th>4</th>\n",
       "      <td>50000</td>\n",
       "      <td>1</td>\n",
       "      <td>2</td>\n",
       "      <td>1</td>\n",
       "      <td>57</td>\n",
       "      <td>-1</td>\n",
       "      <td>0</td>\n",
       "      <td>-1</td>\n",
       "      <td>0</td>\n",
       "      <td>0</td>\n",
       "      <td>0</td>\n",
       "      <td>8617</td>\n",
       "      <td>5670</td>\n",
       "      <td>35835</td>\n",
       "      <td>20940</td>\n",
       "      <td>19146</td>\n",
       "      <td>19131</td>\n",
       "      <td>2000</td>\n",
       "      <td>36681</td>\n",
       "      <td>10000</td>\n",
       "      <td>9000</td>\n",
       "      <td>689</td>\n",
       "      <td>679</td>\n",
       "      <td>0</td>\n",
       "    </tr>\n",
       "    <tr>\n",
       "      <th>...</th>\n",
       "      <td>...</td>\n",
       "      <td>...</td>\n",
       "      <td>...</td>\n",
       "      <td>...</td>\n",
       "      <td>...</td>\n",
       "      <td>...</td>\n",
       "      <td>...</td>\n",
       "      <td>...</td>\n",
       "      <td>...</td>\n",
       "      <td>...</td>\n",
       "      <td>...</td>\n",
       "      <td>...</td>\n",
       "      <td>...</td>\n",
       "      <td>...</td>\n",
       "      <td>...</td>\n",
       "      <td>...</td>\n",
       "      <td>...</td>\n",
       "      <td>...</td>\n",
       "      <td>...</td>\n",
       "      <td>...</td>\n",
       "      <td>...</td>\n",
       "      <td>...</td>\n",
       "      <td>...</td>\n",
       "      <td>...</td>\n",
       "    </tr>\n",
       "    <tr>\n",
       "      <th>29995</th>\n",
       "      <td>220000</td>\n",
       "      <td>1</td>\n",
       "      <td>3</td>\n",
       "      <td>1</td>\n",
       "      <td>39</td>\n",
       "      <td>0</td>\n",
       "      <td>0</td>\n",
       "      <td>0</td>\n",
       "      <td>0</td>\n",
       "      <td>0</td>\n",
       "      <td>0</td>\n",
       "      <td>188948</td>\n",
       "      <td>192815</td>\n",
       "      <td>208365</td>\n",
       "      <td>88004</td>\n",
       "      <td>31237</td>\n",
       "      <td>15980</td>\n",
       "      <td>8500</td>\n",
       "      <td>20000</td>\n",
       "      <td>5003</td>\n",
       "      <td>3047</td>\n",
       "      <td>5000</td>\n",
       "      <td>1000</td>\n",
       "      <td>0</td>\n",
       "    </tr>\n",
       "    <tr>\n",
       "      <th>29996</th>\n",
       "      <td>150000</td>\n",
       "      <td>1</td>\n",
       "      <td>3</td>\n",
       "      <td>2</td>\n",
       "      <td>43</td>\n",
       "      <td>-1</td>\n",
       "      <td>-1</td>\n",
       "      <td>-1</td>\n",
       "      <td>-1</td>\n",
       "      <td>0</td>\n",
       "      <td>0</td>\n",
       "      <td>1683</td>\n",
       "      <td>1828</td>\n",
       "      <td>3502</td>\n",
       "      <td>8979</td>\n",
       "      <td>5190</td>\n",
       "      <td>0</td>\n",
       "      <td>1837</td>\n",
       "      <td>3526</td>\n",
       "      <td>8998</td>\n",
       "      <td>129</td>\n",
       "      <td>0</td>\n",
       "      <td>0</td>\n",
       "      <td>0</td>\n",
       "    </tr>\n",
       "    <tr>\n",
       "      <th>29997</th>\n",
       "      <td>30000</td>\n",
       "      <td>1</td>\n",
       "      <td>2</td>\n",
       "      <td>2</td>\n",
       "      <td>37</td>\n",
       "      <td>4</td>\n",
       "      <td>3</td>\n",
       "      <td>2</td>\n",
       "      <td>-1</td>\n",
       "      <td>0</td>\n",
       "      <td>0</td>\n",
       "      <td>3565</td>\n",
       "      <td>3356</td>\n",
       "      <td>2758</td>\n",
       "      <td>20878</td>\n",
       "      <td>20582</td>\n",
       "      <td>19357</td>\n",
       "      <td>0</td>\n",
       "      <td>0</td>\n",
       "      <td>22000</td>\n",
       "      <td>4200</td>\n",
       "      <td>2000</td>\n",
       "      <td>3100</td>\n",
       "      <td>1</td>\n",
       "    </tr>\n",
       "    <tr>\n",
       "      <th>29998</th>\n",
       "      <td>80000</td>\n",
       "      <td>1</td>\n",
       "      <td>3</td>\n",
       "      <td>1</td>\n",
       "      <td>41</td>\n",
       "      <td>1</td>\n",
       "      <td>-1</td>\n",
       "      <td>0</td>\n",
       "      <td>0</td>\n",
       "      <td>0</td>\n",
       "      <td>-1</td>\n",
       "      <td>-1645</td>\n",
       "      <td>78379</td>\n",
       "      <td>76304</td>\n",
       "      <td>52774</td>\n",
       "      <td>11855</td>\n",
       "      <td>48944</td>\n",
       "      <td>85900</td>\n",
       "      <td>3409</td>\n",
       "      <td>1178</td>\n",
       "      <td>1926</td>\n",
       "      <td>52964</td>\n",
       "      <td>1804</td>\n",
       "      <td>1</td>\n",
       "    </tr>\n",
       "    <tr>\n",
       "      <th>29999</th>\n",
       "      <td>50000</td>\n",
       "      <td>1</td>\n",
       "      <td>2</td>\n",
       "      <td>1</td>\n",
       "      <td>46</td>\n",
       "      <td>0</td>\n",
       "      <td>0</td>\n",
       "      <td>0</td>\n",
       "      <td>0</td>\n",
       "      <td>0</td>\n",
       "      <td>0</td>\n",
       "      <td>47929</td>\n",
       "      <td>48905</td>\n",
       "      <td>49764</td>\n",
       "      <td>36535</td>\n",
       "      <td>32428</td>\n",
       "      <td>15313</td>\n",
       "      <td>2078</td>\n",
       "      <td>1800</td>\n",
       "      <td>1430</td>\n",
       "      <td>1000</td>\n",
       "      <td>1000</td>\n",
       "      <td>1000</td>\n",
       "      <td>1</td>\n",
       "    </tr>\n",
       "  </tbody>\n",
       "</table>\n",
       "<p>30000 rows × 24 columns</p>\n",
       "</div>"
      ],
      "text/plain": [
       "       limit_bal  sex  education  marriage  age  pay_1  pay_2  pay_3  pay_4  \\\n",
       "0          20000    2          2         1   24      2      2     -1     -1   \n",
       "1         120000    2          2         2   26     -1      2      0      0   \n",
       "2          90000    2          2         2   34      0      0      0      0   \n",
       "3          50000    2          2         1   37      0      0      0      0   \n",
       "4          50000    1          2         1   57     -1      0     -1      0   \n",
       "...          ...  ...        ...       ...  ...    ...    ...    ...    ...   \n",
       "29995     220000    1          3         1   39      0      0      0      0   \n",
       "29996     150000    1          3         2   43     -1     -1     -1     -1   \n",
       "29997      30000    1          2         2   37      4      3      2     -1   \n",
       "29998      80000    1          3         1   41      1     -1      0      0   \n",
       "29999      50000    1          2         1   46      0      0      0      0   \n",
       "\n",
       "       pay_5  pay_6  bill_amt1  bill_amt2  bill_amt3  bill_amt4  bill_amt5  \\\n",
       "0         -2     -2       3913       3102        689          0          0   \n",
       "1          0      2       2682       1725       2682       3272       3455   \n",
       "2          0      0      29239      14027      13559      14331      14948   \n",
       "3          0      0      46990      48233      49291      28314      28959   \n",
       "4          0      0       8617       5670      35835      20940      19146   \n",
       "...      ...    ...        ...        ...        ...        ...        ...   \n",
       "29995      0      0     188948     192815     208365      88004      31237   \n",
       "29996      0      0       1683       1828       3502       8979       5190   \n",
       "29997      0      0       3565       3356       2758      20878      20582   \n",
       "29998      0     -1      -1645      78379      76304      52774      11855   \n",
       "29999      0      0      47929      48905      49764      36535      32428   \n",
       "\n",
       "       bill_amt6  pay_amt1  pay_amt2  pay_amt3  pay_amt4  pay_amt5  pay_amt6  \\\n",
       "0              0         0       689         0         0         0         0   \n",
       "1           3261         0      1000      1000      1000         0      2000   \n",
       "2          15549      1518      1500      1000      1000      1000      5000   \n",
       "3          29547      2000      2019      1200      1100      1069      1000   \n",
       "4          19131      2000     36681     10000      9000       689       679   \n",
       "...          ...       ...       ...       ...       ...       ...       ...   \n",
       "29995      15980      8500     20000      5003      3047      5000      1000   \n",
       "29996          0      1837      3526      8998       129         0         0   \n",
       "29997      19357         0         0     22000      4200      2000      3100   \n",
       "29998      48944     85900      3409      1178      1926     52964      1804   \n",
       "29999      15313      2078      1800      1430      1000      1000      1000   \n",
       "\n",
       "       default  \n",
       "0            1  \n",
       "1            1  \n",
       "2            0  \n",
       "3            0  \n",
       "4            0  \n",
       "...        ...  \n",
       "29995        0  \n",
       "29996        0  \n",
       "29997        1  \n",
       "29998        1  \n",
       "29999        1  \n",
       "\n",
       "[30000 rows x 24 columns]"
      ]
     },
     "execution_count": 10,
     "metadata": {},
     "output_type": "execute_result"
    }
   ],
   "source": [
    "cc_df"
   ]
  },
  {
   "cell_type": "markdown",
   "id": "243dc42b",
   "metadata": {},
   "source": [
    "## Adding New Features"
   ]
  },
  {
   "cell_type": "markdown",
   "id": "62c3e15e",
   "metadata": {},
   "source": [
    "Based on my understanding of the data and conclusions from EDA, I engineer a few features"
   ]
  },
  {
   "cell_type": "code",
   "execution_count": 11,
   "id": "b187468a",
   "metadata": {},
   "outputs": [],
   "source": [
    "cc_df[\"avg_default\"] = cc_df.iloc[:, 5:11].sum(axis=1)/6     #average default history\n",
    "cc_df['avg_bill_amt'] = cc_df.iloc[:, 11:17].sum(axis=1) / 6   # average bill amount\n",
    "cc_df['avg_pay_amt'] = cc_df.iloc[:, 18:24].sum(axis=1) / 6    # average payment amount\n",
    "# There is some division by 0 in the following step. If I used this feature, I would need to address the situation.\n",
    "cc_df['pay_bill_rat'] = cc_df['avg_pay_amt']/cc_df['avg_bill_amt'] # average payment to average bill ratio\n",
    "cc_df['bill_bal_rat'] = cc_df['avg_bill_amt'] / cc_df['limit_bal'] # average bill amount to credit limit ratio\n",
    "cc_df['pay_bal_rat'] = cc_df['avg_pay_amt'] / cc_df['limit_bal'] # average payment amount to credit limit ratio"
   ]
  },
  {
   "cell_type": "code",
   "execution_count": 12,
   "id": "783df45a",
   "metadata": {},
   "outputs": [
    {
     "name": "stdout",
     "output_type": "stream",
     "text": [
      "499\n",
      "371\n"
     ]
    }
   ],
   "source": [
    "print(cc_df['pay_bill_rat'].isna().sum()) # 0 divided by 0\n",
    "print(cc_df[cc_df['pay_bill_rat']==np.inf].shape[0]) # non-zero divided by 0"
   ]
  },
  {
   "cell_type": "code",
   "execution_count": 13,
   "id": "304a7fff",
   "metadata": {},
   "outputs": [
    {
     "data": {
      "text/plain": [
       "default\n",
       "0   -0.330023\n",
       "1    0.337176\n",
       "Name: avg_default, dtype: float64"
      ]
     },
     "execution_count": 13,
     "metadata": {},
     "output_type": "execute_result"
    }
   ],
   "source": [
    "cc_df.groupby(\"default\")[\"avg_default\"].mean()"
   ]
  },
  {
   "cell_type": "code",
   "execution_count": 14,
   "id": "7b6ea22c",
   "metadata": {},
   "outputs": [
    {
     "data": {
      "text/plain": [
       "default\n",
       "0    4777.013882\n",
       "1    2762.208258\n",
       "Name: avg_pay_amt, dtype: float64"
      ]
     },
     "execution_count": 14,
     "metadata": {},
     "output_type": "execute_result"
    }
   ],
   "source": [
    "cc_df.groupby(\"default\")[\"avg_pay_amt\"].mean()"
   ]
  },
  {
   "cell_type": "code",
   "execution_count": 15,
   "id": "a701afb0",
   "metadata": {},
   "outputs": [
    {
     "data": {
      "text/plain": [
       "default\n",
       "0    178099.726074\n",
       "1    130109.656420\n",
       "Name: limit_bal, dtype: float64"
      ]
     },
     "execution_count": 15,
     "metadata": {},
     "output_type": "execute_result"
    }
   ],
   "source": [
    "cc_df.groupby('default')['limit_bal'].mean()"
   ]
  },
  {
   "cell_type": "code",
   "execution_count": 16,
   "id": "118c9dfa",
   "metadata": {},
   "outputs": [
    {
     "data": {
      "text/plain": [
       "default\n",
       "0    0.372585\n",
       "1    0.220310\n",
       "Name: pay_bill_rat, dtype: float64"
      ]
     },
     "execution_count": 16,
     "metadata": {},
     "output_type": "execute_result"
    }
   ],
   "source": [
    "cc_df[cc_df[\"avg_bill_amt\"] != 0].groupby(\"default\")[\"pay_bill_rat\"].mean()\n"
   ]
  },
  {
   "cell_type": "code",
   "execution_count": 17,
   "id": "ff333edc",
   "metadata": {},
   "outputs": [
    {
     "data": {
      "text/plain": [
       "default\n",
       "0    0.351391\n",
       "1    0.449298\n",
       "Name: bill_bal_rat, dtype: float64"
      ]
     },
     "execution_count": 17,
     "metadata": {},
     "output_type": "execute_result"
    }
   ],
   "source": [
    "cc_df.groupby('default')['bill_bal_rat'].mean()\n"
   ]
  },
  {
   "cell_type": "markdown",
   "id": "6de312be",
   "metadata": {},
   "source": [
    "Having engineered the features, I see if some of the aggregated columns are correlated with default. A quick look does show some relation although I would have to do some statistical tests to see if that is significant.\n",
    "\n",
    "I draw a scatter plot of average payment amount and average bill amount and notice that there is a marked difference in slope in the line of best fit for the default and non-default class."
   ]
  },
  {
   "cell_type": "code",
   "execution_count": 18,
   "id": "85bb6e89",
   "metadata": {},
   "outputs": [
    {
     "data": {
      "image/png": "[encoded data removed]",
      "text/plain": [
       "<Figure size 570.597x500 with 1 Axes>"
      ]
     },
     "metadata": {},
     "output_type": "display_data"
    }
   ],
   "source": [
    "sns.lmplot(x=\"avg_pay_amt\", y=\"avg_bill_amt\", data=cc_df, hue=\"default\")\n",
    "fig = plt.gcf()\n",
    "plt.show()"
   ]
  },
  {
   "cell_type": "code",
   "execution_count": 19,
   "id": "416fc703",
   "metadata": {},
   "outputs": [],
   "source": [
    "usage_labels = [\"usage\" + str(i) for i in range(1,7)]\n",
    "pay_labels = [\"pay_amt\" + str(i) for i in range(1,7)]\n",
    "\n",
    "# usage denotes the portion of credit limit paid in month 1\n",
    "for i in range(0,6):\n",
    "    cc_df[usage_labels[i]] = cc_df[pay_labels[i]] / cc_df[\"limit_bal\"]\n",
    "    \n",
    "zero_bal_labels = [\"zero_bal\" + str(i) for i in range(1,7)]\n",
    "bill_labels = [\"bill_amt\" + str(i) for i in range(1,7)]\n",
    "\n",
    "# zero bal denotes the ratio of outstanding bill to credit limit\n",
    "for i in range(0,6):\n",
    "    cc_df[zero_bal_labels[i]] = (cc_df[bill_labels[i]] - cc_df[pay_labels[i]]) / cc_df['limit_bal']"
   ]
  },
  {
   "cell_type": "code",
   "execution_count": 20,
   "id": "2a991fa0",
   "metadata": {},
   "outputs": [
    {
     "data": {
      "text/plain": [
       "0    419\n",
       "1    218\n",
       "Name: default, dtype: int64"
      ]
     },
     "execution_count": 20,
     "metadata": {},
     "output_type": "execute_result"
    }
   ],
   "source": [
    "cc_df[cc_df[\"avg_bill_amt\"] > cc_df[\"limit_bal\"]][\"default\"].value_counts()"
   ]
  },
  {
   "cell_type": "markdown",
   "id": "0619f26e",
   "metadata": {},
   "source": [
    "I notice that about one third of the people whose average bill amount was more than the credit limit defaulted. As a result, I engineer a feature called overdraft which takes value 1 if the user defaulted at any point in the past 6 months."
   ]
  },
  {
   "cell_type": "code",
   "execution_count": 21,
   "id": "8ae81e46",
   "metadata": {},
   "outputs": [],
   "source": [
    "cc_df['overdraft'] = np.where(\n",
    "    (cc_df['bill_amt1'] > cc_df['limit_bal']) |\n",
    "    (cc_df['bill_amt2'] > cc_df['limit_bal']) |\n",
    "    (cc_df['bill_amt3'] > cc_df['limit_bal']) |\n",
    "    (cc_df['bill_amt4'] > cc_df['limit_bal']) |\n",
    "    (cc_df['bill_amt5'] > cc_df['limit_bal']) |\n",
    "    (cc_df['bill_amt6'] > cc_df['limit_bal']), 1, 0\n",
    ")"
   ]
  },
  {
   "cell_type": "code",
   "execution_count": 22,
   "id": "3d7af234",
   "metadata": {},
   "outputs": [
    {
     "data": {
      "text/plain": [
       "0    2748\n",
       "1    1183\n",
       "Name: default, dtype: int64"
      ]
     },
     "execution_count": 22,
     "metadata": {},
     "output_type": "execute_result"
    }
   ],
   "source": [
    "cc_df[cc_df[\"overdraft\"] == 1][\"default\"].value_counts()"
   ]
  },
  {
   "cell_type": "markdown",
   "id": "455fe225",
   "metadata": {},
   "source": [
    "The original dataset had three categorical demographic variables (sex, marriage and education). Among them education has an ordinal structure as the changes in value lead to more or less education. sex had only two classes and so is already one-hot-encoded. I will now one-hot-encode the marriage variable."
   ]
  },
  {
   "cell_type": "code",
   "execution_count": 23,
   "id": "27eb7b59",
   "metadata": {},
   "outputs": [],
   "source": [
    "# One hot encoding the marriage column and dropping the first column\n",
    "\n",
    "j = cc_df.columns.get_loc(\"marriage\")\n",
    "\n",
    "left = cc_df.iloc[:, :j]\n",
    "marriage = pd.get_dummies(cc_df[\"marriage\"], prefix=\"marriage\", drop_first=True)\n",
    "right = cc_df.iloc[: , j+1:]\n",
    "\n",
    "cc_df = pd.concat([left, marriage, right], axis=1)"
   ]
  },
  {
   "cell_type": "markdown",
   "id": "92129409",
   "metadata": {},
   "source": [
    "### Feature selection, scaling, splitting and balancing the data"
   ]
  },
  {
   "cell_type": "code",
   "execution_count": 27,
   "id": "1700d2f3",
   "metadata": {},
   "outputs": [],
   "source": [
    "from imblearn.over_sampling import RandomOverSampler, SMOTE\n",
    "from sklearn.preprocessing import MinMaxScaler\n",
    "from sklearn.model_selection import train_test_split"
   ]
  },
  {
   "cell_type": "code",
   "execution_count": 36,
   "id": "e0a6a714",
   "metadata": {},
   "outputs": [],
   "source": [
    "def make_stratified_tts(df: pd.DataFrame, features: list, target: str =\"default\", scaled: bool = False, balanced: bool = False, test_size: float = 0.2, random_state: int = 1) -> pd.DataFrame:\n",
    "    \"\"\"\n",
    "    This function take in a dataframe, the features variables, the target variables\n",
    "    and then splits the data with the user having the option to scale and balance the data\n",
    "    and set values for the split proportion and the random seed.\n",
    "    \"\"\"\n",
    "    #Resampling method\n",
    "    random_os = RandomOverSampler()     #Oversampling\n",
    "    smote = SMOTE()      #smsote\n",
    "    \n",
    "    X, y = df[features], df[target]\n",
    "    \n",
    "    #checking if X needs to be scaled\n",
    "    if scaled == True:\n",
    "        X_sc = pd.DataFrame(MinMaxScaler().fit_transform(X), columns=X.columns)\n",
    "    else:\n",
    "        X_sc = X\n",
    "        \n",
    "    # Train-test split\n",
    "    X_sc_train, X_sc_test, y_train, y_test = train_test_split(\n",
    "    X_sc, y, test_size=test_size, stratify=y, random_state=random_state\n",
    "    )\n",
    "    \n",
    "    # Checking if training data needs to be balanced\n",
    "    if balanced == \"random_os\":\n",
    "        X_sc_train_rs, y_sc_train_rs = random_os.fit_resample(X_sc_train, y_train)\n",
    "    elif balanced == 'smote':\n",
    "        X_sc_train_rs, y_sc_train_rs = smote.fit_resample(X_sc_train, y_train)\n",
    "    else:\n",
    "        X_sc_train_rs, y_sc_train_rs = X_sc_train, y_train        \n",
    "        \n",
    "    return X_sc_train_rs, X_sc_test, y_sc_train_rs, y_test"
   ]
  },
  {
   "cell_type": "markdown",
   "id": "08809e6d",
   "metadata": {},
   "source": [
    "This is the original data set, along with some minor data adjustments discussed earlier and the one-hot encoding of the marriage feature."
   ]
  },
  {
   "cell_type": "code",
   "execution_count": 37,
   "id": "e0e0ddc9",
   "metadata": {},
   "outputs": [
    {
     "name": "stdout",
     "output_type": "stream",
     "text": [
      "['limit_bal', 'sex', 'education', 'marriage_1', 'marriage_2', 'marriage_3', 'age', 'pay_1', 'pay_2', 'pay_3', 'pay_4', 'pay_5', 'pay_6', 'bill_amt1', 'bill_amt2', 'bill_amt3', 'bill_amt4', 'bill_amt5', 'bill_amt6', 'pay_amt1', 'pay_amt2', 'pay_amt3', 'pay_amt4', 'pay_amt5', 'pay_amt6']\n"
     ]
    }
   ],
   "source": [
    "features_1 = list(cc_df.columns[:25])\n",
    "X1_train, X1_test, y_train, y_test = make_stratified_tts(cc_df, features_1)\n",
    "print(features_1)\n",
    "X1 = cc_df[features_1]"
   ]
  },
  {
   "cell_type": "markdown",
   "id": "1b41042b",
   "metadata": {},
   "source": [
    "This dataset contains features that avoid multicollinearity in the model (and hence, statistically significant non-zero coefficients in a logistic model). I decide on this list by looking at the vif and deviance reduction and also at the feature importances of the models. The dataset is then scaled and the training set balanced."
   ]
  },
  {
   "cell_type": "code",
   "execution_count": 38,
   "id": "70c11aab",
   "metadata": {},
   "outputs": [
    {
     "name": "stdout",
     "output_type": "stream",
     "text": [
      "['limit_bal', 'sex', 'education', 'marriage_1', 'marriage_2', 'age', 'pay_1', 'pay_2', 'pay_3', 'pay_4', 'pay_5', 'bill_amt6', 'pay_amt1', 'pay_amt2', 'pay_amt3', 'pay_amt4', 'pay_amt5', 'default', 'avg_bill_amt', 'pay_bal_rat', 'usage1', 'usage2', 'usage5', 'zero_bal1', 'zero_bal2', 'zero_bal5']\n"
     ]
    }
   ],
   "source": [
    "features_best = (\n",
    "    list(cc_df.columns[0:5])\n",
    "    + list(cc_df.columns[6:12])\n",
    "    + list(cc_df.columns[18:24])\n",
    "    + [cc_df.columns[25]]\n",
    "    + [cc_df.columns[27]]\n",
    "    + list(cc_df.columns[31: 34])\n",
    "    + [cc_df.columns[36]]\n",
    "    + list(cc_df.columns[38: 40])\n",
    "    + [cc_df.columns[42]]\n",
    ")\n",
    "\n",
    "X3_sc_train_rs1, X3_sc_test, y3_sc_train_rs1, y_test = make_stratified_tts(cc_df, features_best, scaled=True, balanced='smote')\n",
    "X3_sc_train_rs2, X3_sc_test, y3_sc_train_rs2, y_test = make_stratified_tts(cc_df, features_best, scaled=True, balanced='random_os')\n",
    "print(features_best)\n",
    "X3 = cc_df[features_best]"
   ]
  },
  {
   "cell_type": "code",
   "execution_count": 41,
   "id": "5201d769",
   "metadata": {},
   "outputs": [
    {
     "ename": "NameError",
     "evalue": "name 'obj' is not defined",
     "output_type": "error",
     "traceback": [
      "\u001b[0;31m---------------------------------------------------------------------------\u001b[0m",
      "\u001b[0;31mNameError\u001b[0m                                 Traceback (most recent call last)",
      "\u001b[0;32m/tmp/ipykernel_5469/1552505789.py\u001b[0m in \u001b[0;36m<module>\u001b[0;34m\u001b[0m\n\u001b[0;32m----> 1\u001b[0;31m \u001b[0;32mdef\u001b[0m \u001b[0mplot_feat_imp\u001b[0m\u001b[0;34m(\u001b[0m\u001b[0mX_train\u001b[0m\u001b[0;34m:\u001b[0m \u001b[0mpd\u001b[0m\u001b[0;34m.\u001b[0m\u001b[0mDataFrame\u001b[0m\u001b[0;34m,\u001b[0m \u001b[0mmodel\u001b[0m\u001b[0;34m:\u001b[0m\u001b[0mobj\u001b[0m\u001b[0;34m)\u001b[0m\u001b[0;34m:\u001b[0m\u001b[0;34m\u001b[0m\u001b[0m\n\u001b[0m\u001b[1;32m      2\u001b[0m     \"\"\"\n\u001b[1;32m      3\u001b[0m     \u001b[0mPrints\u001b[0m \u001b[0mthe\u001b[0m \u001b[0mmodel\u001b[0m \u001b[0mfeature\u001b[0m \u001b[0mimportances\u001b[0m\u001b[0;34m\u001b[0m\u001b[0m\n\u001b[1;32m      4\u001b[0m     \"\"\"\n\u001b[1;32m      5\u001b[0m     feat_imp = pd.DataFrame(\n",
      "\u001b[0;31mNameError\u001b[0m: name 'obj' is not defined"
     ]
    }
   ],
   "source": [
    "def plot_feat_imp(X_train: pd.DataFrame, model:object):\n",
    "    \"\"\"\n",
    "    Prints the model feature importances\n",
    "    \"\"\"\n",
    "    feat_imp = pd.DataFrame(\n",
    "        {\"Feature\": X_train.columns, \"Feature Importance\": model.feature_importances_}\n",
    "    )\n",
    "    feat_imp.sort_values(by=\"Feature Importance\", ascending=False, inplace=True)\n",
    "    plt.figure(figsize=(15, 10))\n",
    "    plt.title(f\"Feature Importance of {model}\", fontsize=14)\n",
    "    ax = sns.barplot(x=\"Feature\", y=\"Feature Importance\", data=feat_imp)\n",
    "    ax.set_xticklabels(ax.get_xticklabels(), rotation=90)\n",
    "    plt.show()"
   ]
  },
  {
   "cell_type": "code",
   "execution_count": null,
   "id": "73fb7f33",
   "metadata": {},
   "outputs": [],
   "source": [
    "def get_model_results(X_train: pd.DataFrame, X_test: pd.DataFrame, y_train: pd.Series, y_test:pd.Series, model: object, feat_imp: bool = False):\n",
    "    \"\"\"\n",
    "    Prints the training and test metrics and plots the confusion metrices.\n",
    "    Also plots the feature importance based on the user choosing the parameter variable\n",
    "    and returns the evaluation metrics.\n",
    "    \"\"\"\n",
    "    # Fit training model to training set\n",
    "    model.fit(X_train, y_train)\n",
    "    \n",
    "    # Obtain the predicted values and probabilities from the model\n",
    "    y_train_pred = model.predict(X_train)\n",
    "    y_train_pred_probs = model.predict_proba(X_train)\n",
    "    \n",
    "    y_test_pred = model.predict(X_test)\n",
    "    y_test_pred_probs = model.predict_proba(X_test)\n",
    "    \n",
    "    # Get confusion matrix\n",
    "    train_matrix = metrics.confusion_matrix(y_train, y_train_pred)\n",
    "    test_matrix = metrics.confusion_matrix(y_test, y_test_pred)\n",
    "\n",
    "    # Get F1 score\n",
    "    f1_train = metrics.f1_score(y_train, y_train_pred)\n",
    "    f1_test = metrics.f1_score(y_test, y_test_pred)\n",
    "\n",
    "    # Print the train and test roc_auc_score\n",
    "    #and test confusion matrix\n",
    "    print(\n",
    "        f\"ROC_AUC_Score of train set is {metrics.roc_auc_score(y_train, y_train_pred_probs[:, 1])}.\"\n",
    "    )\n",
    "    print(\n",
    "        f\"ROC_AUC_Score of test set is {metrics.roc_auc_score(y_test, y_test_pred_probs[:, 1])}.\"\n",
    "    )\n",
    "    \n",
    "    # Display scores\n",
    "    print(f\"F1 of train set is {f1_train.round(4)}.\")\n",
    "    print(f\"F1 of test set is {f1_test.round(4)}.\")\n",
    "\n",
    "    # Plot training and test confusion matrices\n",
    "    plt.figure(figsize=(12, 4))\n",
    "    names = [\"True Neg\", \"False Pos\", \"False Neg\", \"True Pos\"]\n",
    "    train_percent = [\n",
    "        \"{0:.2%}\".format(value)\n",
    "        for value in train_matrix.flatten() / np.sum(train_matrix)\n",
    "    ]\n",
    "    labels = [f\"{v1}\\n{v2}\" for v1, v2 in zip(names, train_percent)]\n",
    "    labels = np.asarray(labels).reshape(2, 2)\n",
    "    plt.subplot(1, 2, 1)\n",
    "    sns.heatmap(train_matrix, annot=labels, fmt=\"\", cmap=\"Blues\")\n",
    "    plt.title(\"Train Set\\n\")\n",
    "\n",
    "    names = [\"True Neg\", \"False Pos\", \"False Neg\", \"True Pos\"]\n",
    "    test_percent = [\n",
    "        \"{0:.2%}\".format(value) for value in test_matrix.flatten() / np.sum(test_matrix)\n",
    "    ]\n",
    "    labels = [f\"{v1}\\n{v2}\" for v1, v2 in zip(names, test_percent)]\n",
    "    labels = np.asarray(labels).reshape(2, 2)\n",
    "    plt.subplot(1, 2, 2)\n",
    "    sns.heatmap(test_matrix, annot=labels, fmt=\"\", cmap=\"Blues\")\n",
    "    plt.title(\"Test Set\\n\")\n",
    "\n",
    "    plt.subplots_adjust(wspace=0.2)\n",
    "\n",
    "\n",
    "    if feat_imp == True:\n",
    "        plot_feat_imp(X_train, model)\n",
    "    elif feat_imp == \"LR\":\n",
    "        # Get feature coefficients\n",
    "        importance = model.coef_[0]\n",
    "\n",
    "        df_feat_imp = pd.DataFrame(\n",
    "            columns=[\"Feature\", \"Feature Importance (Value of Coefficient)\"]\n",
    "        )\n",
    "        \n",
    "        # Attach feature coefficients to labels\n",
    "        for i, v in enumerate(importance):\n",
    "            df_feat_imp = df_feat_imp.append(\n",
    "                {\n",
    "                    \"Feature\": X_train.columns[i],\n",
    "                    \"Feature Importance (Value of Coefficient)\": v,\n",
    "                },\n",
    "                ignore_index=True,\n",
    "            )\n",
    "\n",
    "            #print(f\"{X_train.columns[i]} Feature: %0d, Score: %.5f\" % (i, v))\n",
    "        \n",
    "        # Sort them by their absolute values in descending order\n",
    "        df_feat_imp = df_feat_imp.reindex(\n",
    "            df_feat_imp[\"Feature Importance (Value of Coefficient)\"]\n",
    "            .abs()\n",
    "            .sort_values(ascending=False)\n",
    "            .index\n",
    "        )\n",
    "        \n",
    "        # Plot a bargraph\n",
    "        plt.figure(figsize=(10, 5))\n",
    "        plt.title(f\"Feature Importance of {model}\", fontsize=14)\n",
    "        ax = sns.barplot(x=\"Feature\", y=\"Feature Importance (Value of Coefficient)\", data=df_feat_imp)\n",
    "        ax.set_xticklabels(ax.get_xticklabels(), rotation=90)\n",
    "        plt.show()\n",
    "        \n",
    "    else:\n",
    "        pass\n",
    "    \n",
    "    return metrics.accuracy_score(y_test, y_test_pred),\\\n",
    "           metrics.precision_score(y_test, y_test_pred),\\\n",
    "           metrics.recall_score(y_test, y_test_pred),\\\n",
    "           metrics.f1_score(y_test, y_test_pred),\\\n",
    "           metrics.roc_auc_score(y_test, y_test_pred_probs[:, 1])\n",
    "    \n",
    "    "
   ]
  },
  {
   "cell_type": "code",
   "execution_count": null,
   "id": "5470ad34",
   "metadata": {},
   "outputs": [],
   "source": []
  },
  {
   "cell_type": "code",
   "execution_count": null,
   "id": "c58b3daf",
   "metadata": {},
   "outputs": [],
   "source": []
  },
  {
   "cell_type": "code",
   "execution_count": null,
   "id": "6528c95f",
   "metadata": {},
   "outputs": [],
   "source": []
  },
  {
   "cell_type": "code",
   "execution_count": null,
   "id": "92977e09",
   "metadata": {},
   "outputs": [],
   "source": []
  },
  {
   "cell_type": "code",
   "execution_count": null,
   "id": "692c55e7",
   "metadata": {},
   "outputs": [],
   "source": []
  },
  {
   "cell_type": "code",
   "execution_count": null,
   "id": "ab9e72af",
   "metadata": {},
   "outputs": [],
   "source": []
  },
  {
   "cell_type": "code",
   "execution_count": null,
   "id": "504bf83f",
   "metadata": {},
   "outputs": [],
   "source": []
  },
  {
   "cell_type": "code",
   "execution_count": null,
   "id": "62acb283",
   "metadata": {},
   "outputs": [],
   "source": []
  },
  {
   "cell_type": "code",
   "execution_count": null,
   "id": "0b915f9e",
   "metadata": {},
   "outputs": [],
   "source": []
  },
  {
   "cell_type": "code",
   "execution_count": null,
   "id": "a7cede8b",
   "metadata": {},
   "outputs": [],
   "source": []
  },
  {
   "cell_type": "code",
   "execution_count": null,
   "id": "bb98b720",
   "metadata": {},
   "outputs": [],
   "source": []
  }
 ],
 "metadata": {
  "kernelspec": {
   "display_name": "Python 3 (ipykernel)",
   "language": "python",
   "name": "python3"
  },
  "language_info": {
   "codemirror_mode": {
    "name": "ipython",
    "version": 3
   },
   "file_extension": ".py",
   "mimetype": "text/x-python",
   "name": "python",
   "nbconvert_exporter": "python",
   "pygments_lexer": "ipython3",
   "version": "3.7.0"
  }
 },
 "nbformat": 4,
 "nbformat_minor": 5
}
